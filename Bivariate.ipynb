{
 "cells": [
  {
   "cell_type": "code",
   "execution_count": 9,
   "metadata": {},
   "outputs": [
    {
     "name": "stdout",
     "output_type": "stream",
     "text": [
      "8801\n",
      "Index(['STUID', 'State', 'District', 'Gender', 'Age', 'Category',\n",
      "       'Same.language', 'Siblings', 'Handicap', 'Father.edu', 'Mother.edu',\n",
      "       'Father.occupation', 'Mother.occupation', 'Below.poverty',\n",
      "       'Use.calculator', 'Use.computer', 'Use.Internet', 'Use.dictionary',\n",
      "       'Read.other.books', 'X..Books', 'Distance', 'Computer.use',\n",
      "       'Library.use', 'Like.school', 'Subjects', 'Give.Lang.HW',\n",
      "       'Give.Math.HW', 'Give.Scie.HW', 'Give.SoSc.HW', 'Correct.Lang.HW',\n",
      "       'Correct.Math.HW', 'Correct.Scie.HW', 'Correct.SocS.HW',\n",
      "       'Help.in.Study', 'Private.tuition', 'English.is.difficult',\n",
      "       'Read.English', 'Dictionary.to.learn', 'Answer.English.WB',\n",
      "       'Answer.English.aloud', 'Maths.is.difficult', 'Solve.Maths',\n",
      "       'Solve.Maths.in.groups', 'Draw.geometry', 'Explain.answers',\n",
      "       'SocSci.is.difficult', 'Historical.excursions', 'Participate.in.SocSci',\n",
      "       'Small.groups.in.SocSci', 'Express.SocSci.views',\n",
      "       'Science.is.difficult', 'Observe.experiments', 'Conduct.experiments',\n",
      "       'Solve.science.problems', 'Express.science.views', 'Watch.TV',\n",
      "       'Read.magazine', 'Read.a.book', 'Play.games', 'Help.in.household',\n",
      "       'Maths..', 'Reading..', 'Science..', 'Social..'],\n",
      "      dtype='object')\n",
      "  userID  placeID  rating  food_rating  service_rating  avg_rating\n",
      "0  U1077   135085       2            2               2         2.0\n",
      "1  U1077   135038       2            2               1         2.0\n",
      "2  U1077   132825       2            2               2         2.0\n",
      "3  U1077   135060       1            2               2         2.0\n",
      "4  U1068   135104       1            1               2         1.0\n",
      "5  U1068   132740       0            0               0         0.0\n",
      "6  U1068   132663       1            1               1         1.0\n",
      "7  U1068   132732       0            0               0         0.0\n",
      "8  U1068   132630       1            1               1         1.0\n",
      "9  U1067   132584       2            2               2         2.0\n",
      "   Order_ID Order_Date Order_Priority  Ord_id  day\n",
      "0         3 2010-10-13            LOW   Ord_1   13\n",
      "1       293 2012-01-10           HIGH   Ord_2   10\n",
      "2       483 2011-10-07           HIGH   Ord_3    7\n",
      "3       515 2010-08-28  NOT SPECIFIED   Ord_4   28\n",
      "4       613 2011-06-17           HIGH   Ord_5   17\n",
      "5       643 2011-03-24           HIGH   Ord_6   24\n",
      "6       678 2010-02-26            LOW   Ord_7   26\n",
      "7       807 2010-11-23         MEDIUM   Ord_8   23\n",
      "8       868 2012-08-06  NOT SPECIFIED   Ord_9    6\n",
      "9       933 2012-04-08  NOT SPECIFIED  Ord_10    8\n",
      "198\n",
      "Index(['submission', 'submit_time'], dtype='object')\n"
     ]
    }
   ],
   "source": [
    "import pandas as pd\n",
    "import numpy as np\n",
    "import matplotlib.pyplot as plt\n",
    "df=pd.read_csv('C://NAT//ML & AI//testfiles/Data Sourcing/nas.csv')\n",
    "print(len(df))\n",
    "print(df.columns)\n",
    "df.corr()\n",
    "\n",
    "cust_rating = pd.read_csv('https://query.data.world/s/ILc-P4llUraMaYN6N6Bdw7p6kUvHnj')\n",
    "cust_rating['avg_rating'] = round(cust_rating[['rating', 'food_rating','service_rating']].mean(axis=1))\n",
    "\n",
    "print(cust_rating.head(10))\n",
    "\n",
    "order = pd.read_csv('https://query.data.world/s/3hIAtsCE7vYkPEL-O5DyWJAeS5Af-7')\n",
    "order['Order_Date'] = pd.to_datetime(order['Order_Date'])\n",
    "\n",
    "order['day'] = order['Order_Date'].dt.day\n",
    "\n",
    "print(order.head(10))\n"
   ]
  },
  {
   "cell_type": "code",
   "execution_count": 10,
   "metadata": {},
   "outputs": [
    {
     "name": "stdout",
     "output_type": "stream",
     "text": [
      "198\n",
      "Index(['submission', 'submit_time'], dtype='object')\n"
     ]
    }
   ],
   "source": [
    "df3=pd.read_csv('C://NAT//ML & AI//testfiles/Data Sourcing/grades.csv')\n",
    "print(len(df3))\n",
    "print(df3.columns)"
   ]
  },
  {
   "cell_type": "code",
   "execution_count": null,
   "metadata": {},
   "outputs": [],
   "source": []
  }
 ],
 "metadata": {
  "kernelspec": {
   "display_name": "Python 3",
   "language": "python",
   "name": "python3"
  },
  "language_info": {
   "codemirror_mode": {
    "name": "ipython",
    "version": 3
   },
   "file_extension": ".py",
   "mimetype": "text/x-python",
   "name": "python",
   "nbconvert_exporter": "python",
   "pygments_lexer": "ipython3",
   "version": "3.7.4"
  }
 },
 "nbformat": 4,
 "nbformat_minor": 2
}
